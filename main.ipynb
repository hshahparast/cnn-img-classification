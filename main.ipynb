in this file, we will be using CNN network for an image classification problem, using CIFAR10 as dataset.
