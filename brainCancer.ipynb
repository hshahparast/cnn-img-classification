{
  "cells": [
    {
      "cell_type": "code",
      "execution_count": null,
      "metadata": {
        "id": "XgZ1bEcMyRBH"
      },
      "outputs": [],
      "source": [
        "import numpy as np\n",
        "import torch\n",
        "import torch.nn as nn\n",
        "import torch.nn.functional as func\n",
        "import torchvision\n",
        "import torch.utils.data as tud\n",
        "from torchvision import datasets, transforms\n",
        "from torch.utils.data import DataLoader\n",
        "from torchvision import transforms\n",
        "from torch.utils.data.sampler import SubsetRandomSampler"
      ]
    },
    {
      "cell_type": "code",
      "execution_count": null,
      "metadata": {
        "id": "BxiBZqqSyRBW"
      },
      "outputs": [],
      "source": [
        "device = torch.device('cuda') if torch.cuda.is_available() else torch.device('cpu')"
      ]
    },
    {
      "cell_type": "code",
      "execution_count": null,
      "metadata": {
        "id": "BprVZ09gyRBX"
      },
      "outputs": [],
      "source": [
        "train_path = \"dataset/Training\"\n",
        "test_path = \"dataset/Testing\""
      ]
    },
    {
      "cell_type": "code",
      "execution_count": null,
      "metadata": {
        "id": "EbPDk2I8yRBZ"
      },
      "outputs": [],
      "source": [
        "#transform on train data\n",
        "imgSize = 32\n",
        "transTrain = transforms.Compose([transforms.ToTensor(),transforms.Resize((imgSize,imgSize)),transforms.Normalize(mean=(0.5, 0.5, 0.5),std=(0.5, 0.5, 0.5)),\n",
        "                                transforms.RandomHorizontalFlip(),\n",
        "                                transforms.RandomVerticalFlip(),\n",
        "                                transforms.RandomAdjustSharpness(sharpness_factor=2, p=0.5),\n",
        "                                transforms.GaussianBlur(kernel_size=(5, 9), sigma=(0.1, 2)),\n",
        "                                transforms.RandomRotation(20) ])\n",
        "#transform on test data\n",
        "transTest = transforms.Compose([transforms.ToTensor(),transforms.Resize((imgSize,imgSize)),transforms.Normalize(mean=(0.5, 0.5, 0.5),std=(0.5, 0.5, 0.5))])"
      ]
    },
    {
      "cell_type": "code",
      "execution_count": null,
      "metadata": {
        "id": "uE5PepygyRBc"
      },
      "outputs": [],
      "source": [
        "valPer = 0.1\n",
        "batchSize = 30\n",
        "\n",
        "trainImgs = datasets.ImageFolder(train_path, transform=transTrain)\n",
        "testImgs = datasets.ImageFolder(test_path, transform=transTrain)\n",
        "\n",
        "\n",
        "trainSize = len(trainImgs)\n",
        "idxs = list(range(trainSize))\n",
        "np.random.shuffle(idxs)\n",
        "spl = int(np.floor(valPer * trainSize))          #split the dataset to train and validation sets\n",
        "trainIdxs, valIdxs = idxs[spl:], idxs[:spl]\n",
        "\n",
        "trainSamp = SubsetRandomSampler(trainIdxs)\n",
        "valSamp = SubsetRandomSampler(valIdxs)\n",
        "\n",
        "\n",
        "trainLoader = tud.DataLoader(trainImgs,batch_size=batchSize,sampler=trainSamp,num_workers=0)\n",
        "valLoader = tud.DataLoader(trainImgs,batch_size=batchSize,sampler=valSamp,num_workers=0)\n",
        "testLoader = tud.DataLoader(testImgs,batch_size=batchSize,num_workers=0,shuffle=True)\n",
        "\n"
      ]
    },
    {
      "cell_type": "code",
      "execution_count": null,
      "metadata": {
        "id": "Z_jhj3wayRBf"
      },
      "outputs": [],
      "source": [
        "#Defining the cnn network\n",
        "class CNN(nn.Module):\n",
        "  def __init__(self):\n",
        "      super(CNN,self).__init__()\n",
        "      self.conv1 = nn.Conv2d(in_channels=3, out_channels=16, kernel_size=3, padding=1)\n",
        "      self.conv2 = nn.Conv2d(in_channels=16, out_channels=32, kernel_size=3, padding=1)\n",
        "      self.conv3 = nn.Conv2d(in_channels=32, out_channels=64, kernel_size=3, padding=1)\n",
        "      self.fc1 = nn.Linear(64 * 4 * 4, 100)\n",
        "      self.fc2 = nn.Linear(100, 4)\n",
        "      self.maxPool = nn.MaxPool2d(kernel_size = 2, stride = 2)\n",
        "      self.dropout = nn.Dropout(0.25)\n",
        "      self.relu = nn.ReLU()\n",
        "\n",
        "  def forward(self,x):\n",
        "      out = self.maxPool(func.relu(self.conv1(x)))\n",
        "      out = self.maxPool(func.relu(self.conv2(out)))\n",
        "      out = self.maxPool(func.relu(self.conv3(out)))\n",
        "      out = out.view(-1, 64 * 4 * 4)\n",
        "      out = self.dropout(out)\n",
        "      out = func.relu(self.fc1(out))\n",
        "      out = self.dropout(out)\n",
        "      out = self.fc2(out)\n",
        "      return out"
      ]
    },
    {
      "cell_type": "code",
      "execution_count": null,
      "metadata": {
        "id": "uI-R3hghyRBi"
      },
      "outputs": [],
      "source": [
        "#Training the model\n",
        "import torch.optim as optim\n",
        "\n",
        "cnnNet = CNN()\n",
        "cnnNet.to(device)\n",
        "criterion = nn.CrossEntropyLoss()   # Settin Loss function with criterion\n",
        "lr = 0.01 #learning rate\n",
        "optimizer = optim.SGD(cnnNet.parameters(), lr=lr, momentum = 0.9)\n",
        "\n",
        "nepc = 20 # number of epochs\n",
        "\n",
        "\n",
        "desiredLoss = 0.001\n",
        "minLoss = np.Inf\n",
        "correct = 0\n",
        "for epc in range(1,nepc+1):\n",
        "    trainLoss = 0\n",
        "    cnnNet.train()\n",
        "    #-----------Training\n",
        "    for images,labels in trainLoader: \n",
        "      images = images.to(device)\n",
        "      labels = labels.to(device)\n",
        "      optimizer.zero_grad()\n",
        "      print(len(images))\n",
        "      pred = cnnNet(images)\n",
        "      pred = pred.to(dtype=torch.float)\n",
        "      # _, pred = torch.max(pred.data, 1)\n",
        "      # correct += (pred == labels).sum().item()\n",
        "      loss = criterion(pred, labels)\n",
        "      loss.backward()\n",
        "      optimizer.step()\n",
        "      trainLoss += loss.item()\n",
        "    trainLoss = trainLoss/len(trainLoader)\n",
        "    print('Epoch no {} , Loss: {:.4f}'.format(epc, trainLoss))\n",
        "   \n",
        "    #-----------Validation\n",
        "    cnnNet.eval()\n",
        "    valLoss = 0\n",
        "    valLoss2 = 0\n",
        "    for images,labels in valLoader:\n",
        "      images = images.to(device)\n",
        "      labels = labels.to(device)\n",
        "      print(len(labels))\n",
        "      pred = cnnNet(images)\n",
        "      # pred = pred.to(dtype=torch.float)\n",
        "      # _, pred = torch.max(pred.data, 1)\n",
        "      pred = pred.to(dtype=torch.float)\n",
        "      loss = criterion(pred, labels)\n",
        "      valLoss += loss.item()\n",
        "\n",
        "    valLoss = valLoss/len(valLoader)\n",
        "    if valLoss < minLoss:  #saving the model with minimum loss\n",
        "      torch.save(cnnNet.state_dict(), 'cnnNet')\n",
        "      minLoss = valLoss\n",
        "      print('Validation loss: {:.4f}'.format(valLoss))\n",
        "    if valLoss < desiredLoss:\n",
        "      break\n"
      ]
    },
    {
      "cell_type": "code",
      "execution_count": null,
      "metadata": {
        "id": "NdOm54mFyRBl",
        "outputId": "4bf00a4f-b3bd-4539-fc31-c25780d97b8e"
      },
      "outputs": [
        {
          "name": "stdout",
          "output_type": "stream",
          "text": [
            "The final accuracy of the network on brain cancer images: 74.1419\n"
          ]
        }
      ],
      "source": [
        "#Evluating the model\n",
        "cnnNet.load_state_dict(torch.load('cnnNet'))  #Loading the best model, with minimum error\n",
        "\n",
        "testLoss = 0\n",
        "correct = 0\n",
        "cnnNet.eval()\n",
        "total = 0\n",
        "for images,labels in testLoader:\n",
        "    images = images.to(device)\n",
        "    labels = labels.to(device)\n",
        "    pred = cnnNet(images)\n",
        "    pred = pred.to(dtype=torch.float)\n",
        "    loss = criterion(pred, labels)\n",
        "    testLoss += loss.item()*images.size(0)\n",
        "    total += labels.size(0)\n",
        "    _, pred = torch.max(pred, 1)\n",
        "    correct += (pred == labels).sum().item()\n",
        "testLoss = testLoss/len(testLoader)\n",
        "\n",
        "print('The final accuracy of the network on brain cancer images: {:.4f}'.format(correct/total*100))\n"
      ]
    },
    {
      "cell_type": "code",
      "execution_count": null,
      "metadata": {
        "id": "WuGnjZDqyRB4"
      },
      "outputs": [],
      "source": []
    },
    {
      "cell_type": "code",
      "execution_count": null,
      "metadata": {
        "id": "6WrVaCTByRB6"
      },
      "outputs": [],
      "source": []
    }
  ],
  "metadata": {
    "kernelspec": {
      "display_name": "Python 3.10.7 64-bit",
      "language": "python",
      "name": "python3"
    },
    "language_info": {
      "codemirror_mode": {
        "name": "ipython",
        "version": 3
      },
      "file_extension": ".py",
      "mimetype": "text/x-python",
      "name": "python",
      "nbconvert_exporter": "python",
      "pygments_lexer": "ipython3",
      "version": "3.10.7"
    },
    "orig_nbformat": 4,
    "vscode": {
      "interpreter": {
        "hash": "58b3c563ef941c2862f3b7afe72ce407e4183faf73eb365530c9afd48d410756"
      }
    },
    "colab": {
      "provenance": []
    }
  },
  "nbformat": 4,
  "nbformat_minor": 0
}